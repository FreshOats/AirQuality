{
 "cells": [
  {
   "cell_type": "markdown",
   "metadata": {
    "application/vnd.databricks.v1+cell": {
     "cellMetadata": {},
     "inputWidgets": {},
     "nuid": "bc3c0416-6426-4ea1-a8d5-4c5270fff199",
     "showTitle": false,
     "tableResultSettingsMap": {},
     "title": ""
    },
    "jupyter": {
     "outputs_hidden": true
    }
   },
   "source": [
    "# Queries for Power BI"
   ]
  },
  {
   "cell_type": "code",
   "execution_count": 0,
   "metadata": {
    "application/vnd.databricks.v1+cell": {
     "cellMetadata": {
      "byteLimit": 2048000,
      "implicitDf": true,
      "rowLimit": 10000
     },
     "inputWidgets": {},
     "nuid": "acc95cf0-124e-494c-84c2-9cbca403eb84",
     "showTitle": false,
     "tableResultSettingsMap": {},
     "title": ""
    }
   },
   "outputs": [],
   "source": [
    "%sql\n",
    "-- Geographic Hazard Distribution Table for Mapping\n",
    "CREATE OR REPLACE TABLE hazard_map_data\n",
    "USING DELTA\n",
    "AS\n",
    "SELECT \n",
    "    d.GEOID,\n",
    "    d.state,\n",
    "    d.parameter,\n",
    "    d.value,\n",
    "    d.hazard_level,\n",
    "    d.income_bracket,\n",
    "    d.median_income,\n",
    "    d.result_date,\n",
    "    s.tract_lat,\n",
    "    s.tract_lon,\n",
    "    COUNT(*) OVER (PARTITION BY d.GEOID) as incidents_per_location\n",
    "FROM daily_air_quality_monitor d \n",
    "INNER JOIN sensors_with_income_levels s\n",
    "    ON d.GEOID = s.GEOID;\n",
    "\n",
    "-- Optimize the table for better query performance\n",
    "OPTIMIZE hazard_map_data\n",
    "ZORDER BY (state, result_date);"
   ]
  },
  {
   "cell_type": "code",
   "execution_count": 0,
   "metadata": {
    "application/vnd.databricks.v1+cell": {
     "cellMetadata": {
      "byteLimit": 2048000,
      "implicitDf": true,
      "rowLimit": 10000
     },
     "inputWidgets": {},
     "nuid": "7fc3efd5-67a7-4331-a514-b18c3087b7dc",
     "showTitle": false,
     "tableResultSettingsMap": {},
     "title": ""
    }
   },
   "outputs": [],
   "source": [
    "%sql\n",
    "-- 1. Hazard Level Distribution by Income Bracket (Stacked Bar Chart)\n",
    "CREATE OR REPLACE TABLE income_hazard_analysis\n",
    "USING DELTA\n",
    "AS\n",
    "SELECT \n",
    "    income_bracket,\n",
    "    hazard_level,\n",
    "    COUNT(*) as incident_count,\n",
    "    AVG(value) as avg_parameter_value,\n",
    "    AVG(median_income) as avg_income,\n",
    "    result_date\n",
    "FROM daily_air_quality_monitor\n",
    "GROUP BY income_bracket, hazard_level, result_date\n",
    "ORDER BY avg_income DESC;\n"
   ]
  },
  {
   "cell_type": "code",
   "execution_count": 0,
   "metadata": {
    "application/vnd.databricks.v1+cell": {
     "cellMetadata": {
      "byteLimit": 2048000,
      "implicitDf": true,
      "rowLimit": 10000
     },
     "inputWidgets": {},
     "nuid": "e2882497-3719-4168-b111-e56a427c7b3d",
     "showTitle": false,
     "tableResultSettingsMap": {},
     "title": ""
    }
   },
   "outputs": [],
   "source": [
    "%sql\n",
    "-- 2. Parameter Value Trends (Line Chart/Area Chart)\n",
    "CREATE OR REPLACE TABLE parameter_value_trends\n",
    "USING DELTA\n",
    "AS\n",
    "SELECT \n",
    "    parameter,\n",
    "    income_bracket,\n",
    "    result_date,\n",
    "    AVG(value) as avg_value,\n",
    "    MAX(value) as max_value,\n",
    "    MIN(value) as min_value,\n",
    "    COUNT(DISTINCT GEOID) as affected_locations\n",
    "FROM daily_air_quality_monitor\n",
    "GROUP BY parameter, income_bracket, result_date\n",
    "ORDER BY result_date;\n",
    "\n"
   ]
  },
  {
   "cell_type": "code",
   "execution_count": 0,
   "metadata": {
    "application/vnd.databricks.v1+cell": {
     "cellMetadata": {
      "byteLimit": 2048000,
      "implicitDf": true,
      "rowLimit": 10000
     },
     "inputWidgets": {},
     "nuid": "8849dd86-a254-4493-9dd8-b22e087fc0ae",
     "showTitle": false,
     "tableResultSettingsMap": {},
     "title": ""
    }
   },
   "outputs": [],
   "source": [
    "%sql\n",
    "-- 3. State-Level Risk Assessment (Heat Grid/Matrix)\n",
    "CREATE OR REPLACE TABLE state_risk_matrix\n",
    "USING DELTA\n",
    "AS\n",
    "SELECT \n",
    "    state,\n",
    "    hazard_level,\n",
    "    income_bracket,\n",
    "    COUNT(DISTINCT GEOID) as affected_areas,\n",
    "    AVG(value) as avg_parameter_value,\n",
    "    COUNT(*) as incident_count,\n",
    "    result_date\n",
    "FROM daily_air_quality_monitor\n",
    "GROUP BY state, hazard_level, income_bracket, result_date\n",
    "ORDER BY incident_count DESC;"
   ]
  }
 ],
 "metadata": {
  "application/vnd.databricks.v1+notebook": {
   "computePreferences": null,
   "dashboards": [],
   "environmentMetadata": {
    "base_environment": "",
    "environment_version": "2"
   },
   "language": "python",
   "notebookMetadata": {
    "mostRecentlyExecutedCommandWithImplicitDF": {
     "commandId": 3905852250677839,
     "dataframes": [
      "_sqldf"
     ]
    },
    "pythonIndentUnit": 4
   },
   "notebookName": "Gold Level 1 - Queries",
   "widgets": {}
  },
  "language_info": {
   "name": "python"
  }
 },
 "nbformat": 4,
 "nbformat_minor": 0
}
