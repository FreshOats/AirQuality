{
 "cells": [
  {
   "cell_type": "markdown",
   "metadata": {
    "application/vnd.databricks.v1+cell": {
     "cellMetadata": {},
     "inputWidgets": {},
     "nuid": "fa65c409-922d-4c4d-a00c-d75ae6a0f201",
     "showTitle": false,
     "tableResultSettingsMap": {},
     "title": ""
    }
   },
   "source": [
    "# Find Locations Around Wildfires to Monitor\n",
    "This layer accesses the recent FIRMS data and compliles a list of the sensor locations that will be called upon in the OpenAQ API to monitor the current air quality. I am only accepting the high confidence firms data points to reduce the number of API calls. \n",
    "\n",
    "This first code only collects the location_id between 5 days ago and today, in order to monitor the air quality for 5 days after a fire was present. It is currently filtering for high confidence wildfires, though once the code is more robust, I'll be loosening that restriction to include normal as well, but that will quintuple the number of results, and that means more careful handling on the API level.  "
   ]
  },
  {
   "cell_type": "code",
   "execution_count": 0,
   "metadata": {
    "application/vnd.databricks.v1+cell": {
     "cellMetadata": {
      "byteLimit": 2048000,
      "implicitDf": true,
      "rowLimit": 10000
     },
     "inputWidgets": {},
     "nuid": "a432b592-1342-4b5a-85c4-8593cf1064b3",
     "showTitle": false,
     "tableResultSettingsMap": {},
     "title": ""
    }
   },
   "outputs": [],
   "source": [
    "%sql\n",
    "-- First create a temporary view with all the matched locations data\n",
    "CREATE OR REPLACE TEMPORARY VIEW matched_locations_view AS\n",
    "WITH yesterday_locations AS (\n",
    "SELECT acq_date\n",
    "  , ROUND(latitude + 0.36, 5) AS max_lat\n",
    "  , ROUND(latitude - 0.36, 5) AS min_lat\n",
    "  , ROUND(longitude + (40 / (111 * COS(latitude * 3.141592653589793 / 180))), 5) AS max_lon\n",
    "  , ROUND(longitude - (40 / (111 * COS(latitude * 3.141592653589793 / 180))), 5) AS min_lon\n",
    "FROM firms_data\n",
    "WHERE acq_date BETWEEN current_date()-5 AND current_date()\n",
    "AND confidence IN ('h', 'n')\n",
    "), \n",
    "filtered_sensors AS (\n",
    "  SELECT \n",
    "     DISTINCT s.nn_location_id\n",
    "     , s.tract_lat\n",
    "     , s.tract_lon\n",
    "     , s.aq_confidence_level\n",
    "  FROM sensors_with_income_levels s\n",
    "  WHERE s.aq_confidence_level IN ('Moderate', 'High')\n",
    "),\n",
    "matched_locations AS (\n",
    "  SELECT \n",
    "    s.nn_location_id\n",
    "    , y.acq_date\n",
    "  FROM yesterday_locations y\n",
    "  INNER JOIN filtered_sensors s\n",
    "    ON s.tract_lat BETWEEN y.min_lat AND y.max_lat\n",
    "    AND s.tract_lon BETWEEN y.min_lon AND y.max_lon\n",
    "  AND s.aq_confidence_level IN ('Moderate', 'High')\n",
    ")\n",
    "SELECT \n",
    "    nn_location_id\n",
    "    , acq_date\n",
    "FROM matched_locations;\n",
    "\n",
    "-- Create temporary table for API calls\n",
    "CREATE OR REPLACE TABLE temp_locations_for_api\n",
    "USING DELTA\n",
    "AS\n",
    "SELECT DISTINCT nn_location_id AS location_id\n",
    "FROM matched_locations_view;\n",
    "\n",
    "\n",
    "-- -- Create permanent table for historical reference\n",
    "-- CREATE OR REPLACE TABLE distinct_locations_historical\n",
    "-- USING DELTA\n",
    "-- PARTITIONED BY (query_date)\n",
    "-- AS\n",
    "-- SELECT \n",
    "--   DISTINCT nn_location_id AS location_id\n",
    "--   , acq_date AS latest_active\n",
    "--   , current_date() AS query_date\n",
    "-- FROM matched_locations_view;\n",
    "\n",
    "-- Merge into permanent historical table\n",
    "MERGE INTO distinct_locations_historical target\n",
    "USING (\n",
    "    SELECT \n",
    "        nn_location_id AS location_id,\n",
    "        MAX(acq_date) AS latest_active,\n",
    "        current_date() AS query_date\n",
    "    FROM matched_locations_view\n",
    "    GROUP BY nn_location_id\n",
    ") source\n",
    "ON target.location_id = source.location_id \n",
    "AND target.query_date = source.query_date\n",
    "WHEN NOT MATCHED THEN \n",
    "    INSERT (location_id, latest_active, query_date)\n",
    "    VALUES (source.location_id, source.latest_active, source.query_date);\n",
    "\n",
    "-- Optimize tables\n",
    "OPTIMIZE temp_locations_for_api;\n",
    "OPTIMIZE distinct_locations_historical\n",
    "ZORDER BY (location_id);"
   ]
  },
  {
   "cell_type": "code",
   "execution_count": 0,
   "metadata": {
    "application/vnd.databricks.v1+cell": {
     "cellMetadata": {
      "byteLimit": 2048000,
      "implicitDf": true,
      "rowLimit": 10000
     },
     "inputWidgets": {},
     "nuid": "3831154d-8798-493a-a032-e495e3b620a5",
     "showTitle": false,
     "tableResultSettingsMap": {},
     "title": ""
    }
   },
   "outputs": [],
   "source": [
    "# %sql\n",
    "# -- Check for duplicates in temporary API table\n",
    "# SELECT \n",
    "#     location_id,\n",
    "#     COUNT(*) as count\n",
    "# FROM temp_locations_for_api\n",
    "# GROUP BY location_id\n",
    "# HAVING COUNT(*) > 1;"
   ]
  },
  {
   "cell_type": "code",
   "execution_count": 0,
   "metadata": {
    "application/vnd.databricks.v1+cell": {
     "cellMetadata": {
      "byteLimit": 2048000,
      "implicitDf": true,
      "rowLimit": 10000
     },
     "inputWidgets": {},
     "nuid": "498b1892-786d-438a-b2e5-4e4710ad1d06",
     "showTitle": false,
     "tableResultSettingsMap": {},
     "title": ""
    }
   },
   "outputs": [],
   "source": [
    "# %sql\n",
    "# -- Check for duplicates in permanent historical table (same location_id and query_date)\n",
    "# SELECT \n",
    "#     location_id,\n",
    "#     query_date,\n",
    "#     latest_active,\n",
    "#     COUNT(*) as count\n",
    "# FROM distinct_locations_historical\n",
    "# GROUP BY location_id, query_date, latest_active\n",
    "# HAVING COUNT(*) > 1;"
   ]
  },
  {
   "cell_type": "code",
   "execution_count": 0,
   "metadata": {
    "application/vnd.databricks.v1+cell": {
     "cellMetadata": {
      "byteLimit": 2048000,
      "implicitDf": true,
      "rowLimit": 10000
     },
     "inputWidgets": {},
     "nuid": "bda19fdc-7491-486c-b79c-408bc7ccd567",
     "showTitle": false,
     "tableResultSettingsMap": {},
     "title": ""
    }
   },
   "outputs": [],
   "source": [
    "# %sql\n",
    "# -- Additional check for the permanent table to show all duplicate records\n",
    "# WITH DuplicateCheck AS (\n",
    "#     SELECT \n",
    "#         location_id,\n",
    "#         query_date,\n",
    "#         latest_active,\n",
    "#         ROW_NUMBER() OVER (\n",
    "#             PARTITION BY location_id, query_date, latest_active \n",
    "#             ORDER BY latest_active DESC\n",
    "#         ) as row_num\n",
    "#     FROM distinct_locations_historical)\n",
    "# SELECT *\n",
    "# FROM DuplicateCheck\n",
    "# WHERE row_num > 1;"
   ]
  },
  {
   "cell_type": "code",
   "execution_count": 0,
   "metadata": {
    "application/vnd.databricks.v1+cell": {
     "cellMetadata": {
      "byteLimit": 2048000,
      "implicitDf": true,
      "rowLimit": 10000
     },
     "inputWidgets": {},
     "nuid": "3d220834-c02f-4a51-a16b-f2d4e392458e",
     "showTitle": false,
     "tableResultSettingsMap": {},
     "title": ""
    }
   },
   "outputs": [],
   "source": [
    "# %sql\n",
    "# -- Count total records vs distinct records\n",
    "# SELECT \n",
    "#     COUNT(*) as total_records,\n",
    "#     COUNT(DISTINCT location_id) as distinct_locations\n",
    "# FROM temp_locations_for_api;"
   ]
  },
  {
   "cell_type": "code",
   "execution_count": 0,
   "metadata": {
    "application/vnd.databricks.v1+cell": {
     "cellMetadata": {
      "byteLimit": 2048000,
      "implicitDf": true,
      "rowLimit": 10000
     },
     "inputWidgets": {},
     "nuid": "e274f4a1-77c8-45c8-a57d-3fc410068db5",
     "showTitle": false,
     "tableResultSettingsMap": {},
     "title": ""
    }
   },
   "outputs": [],
   "source": [
    "# %sql\n",
    "# SELECT \n",
    "#     COUNT(*) as total_records,\n",
    "#     COUNT(DISTINCT (location_id, query_date)) as distinct_combinations\n",
    "# FROM distinct_locations_historical;"
   ]
  },
  {
   "cell_type": "code",
   "execution_count": 0,
   "metadata": {
    "application/vnd.databricks.v1+cell": {
     "cellMetadata": {
      "byteLimit": 2048000,
      "implicitDf": true,
      "rowLimit": 10000
     },
     "inputWidgets": {},
     "nuid": "75da4647-bd2a-46c4-a960-b7c3f126eed9",
     "showTitle": false,
     "tableResultSettingsMap": {},
     "title": ""
    }
   },
   "outputs": [],
   "source": [
    "# %sql\n",
    "# -- Check for specific examples of duplicates\n",
    "# SELECT \n",
    "#     location_id,\n",
    "#     query_date,\n",
    "#     latest_active,\n",
    "#     COUNT(*) as occurrence_count\n",
    "# FROM distinct_locations_historical\n",
    "# GROUP BY location_id, query_date, latest_active\n",
    "# HAVING COUNT(*) > 1;"
   ]
  },
  {
   "cell_type": "code",
   "execution_count": 0,
   "metadata": {
    "application/vnd.databricks.v1+cell": {
     "cellMetadata": {
      "byteLimit": 2048000,
      "implicitDf": true,
      "rowLimit": 10000
     },
     "inputWidgets": {},
     "nuid": "ef8e7e4f-2e45-4efe-85d8-d53ced2501bc",
     "showTitle": false,
     "tableResultSettingsMap": {},
     "title": ""
    }
   },
   "outputs": [],
   "source": [
    "# %sql\n",
    "# -- Look at the distribution of records over time\n",
    "# SELECT \n",
    "#     query_date,\n",
    "#     COUNT(DISTINCT location_id) as unique_locations,\n",
    "#     COUNT(*) as total_records\n",
    "# FROM distinct_locations_historical\n",
    "# GROUP BY query_date\n",
    "# ORDER BY query_date DESC;"
   ]
  },
  {
   "cell_type": "code",
   "execution_count": 0,
   "metadata": {
    "application/vnd.databricks.v1+cell": {
     "cellMetadata": {
      "byteLimit": 2048000,
      "implicitDf": true,
      "rowLimit": 10000
     },
     "inputWidgets": {},
     "nuid": "da0eb26c-30ef-4419-9dc6-97de13b7ec24",
     "showTitle": false,
     "tableResultSettingsMap": {},
     "title": ""
    }
   },
   "outputs": [],
   "source": [
    "# %sql\n",
    "# -- Check for any locations that appear multiple times on the same day with different latest_active times\n",
    "# SELECT \n",
    "#     location_id,\n",
    "#     query_date,\n",
    "#     COUNT(DISTINCT latest_active) as different_active_times,\n",
    "#     MIN(latest_active) as earliest_active,\n",
    "#     MAX(latest_active) as most_recent_active\n",
    "# FROM distinct_locations_historical\n",
    "# GROUP BY location_id, query_date\n",
    "# HAVING COUNT(DISTINCT latest_active) > 1\n",
    "# ORDER BY query_date DESC, location_id;"
   ]
  }
 ],
 "metadata": {
  "application/vnd.databricks.v1+notebook": {
   "computePreferences": null,
   "dashboards": [],
   "environmentMetadata": {
    "base_environment": "",
    "environment_version": "2"
   },
   "language": "python",
   "notebookMetadata": {
    "mostRecentlyExecutedCommandWithImplicitDF": {
     "commandId": -1,
     "dataframes": [
      "_sqldf"
     ]
    },
    "pythonIndentUnit": 4
   },
   "notebookName": "Silver Layer 1 - Firms Filtration and Bounding",
   "widgets": {}
  },
  "language_info": {
   "name": "python"
  }
 },
 "nbformat": 4,
 "nbformat_minor": 0
}
