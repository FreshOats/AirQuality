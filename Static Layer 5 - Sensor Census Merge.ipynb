{
 "cells": [
  {
   "cell_type": "markdown",
   "metadata": {
    "application/vnd.databricks.v1+cell": {
     "cellMetadata": {},
     "inputWidgets": {},
     "nuid": "a6373ee5-7a5a-4273-97ab-3b9c346d0c48",
     "showTitle": false,
     "tableResultSettingsMap": {},
     "title": ""
    }
   },
   "source": [
    "# Merge the Nearest Neighbors, Census, and Sensor ID tables\n",
    "\n",
    "This will merge the nearest neighbor calculations with the census information. There are three tables here: \n",
    "1. nearest_neighbors (nn): contains tract_id (census tract), location_id (location of the nearest sensor to the census tract), distance (the distance from the sensor to the census tract in km) and rank (all of these should be one, as a result from the nn analysis)\n",
    "2. filtered_sensors (fs): provides the location_id, sensor_id, parameter, units, datetime_last (last measurement by the sensor) and coordinates of the location \n",
    "3. filtered_geo_census/census_tracts (ct): gives the census_tract, centroid coordinates, and median_income, and margin of error of median income  \n",
    "\n",
    "JOINs\n",
    "- nn.tract_id = ct.GEOID\n",
    "- nn.location_id = fs.location_id\n",
    "\n",
    "- The nearest neighbors and census tracts both have the same number of rows, since they are organized by tract_id/GEOID. This join can be an Inner or left and still preserve all of the information. \n",
    "- The second join, including the filtered sensors will expand the list, as there are only location ID values included in the tract/nn tables, but some of the locations have multiple sensors. There are 2982 locations, and 8609 sensors. \n",
    "\n",
    "When performing the API call, we only call per location, but it doens't provide the parameter or units on the sensor measurements. This table will be a static table, and will only be used for a reference, to collect this information without having to perform subsequent calls to this after getting the locations from the FIRMS data. "
   ]
  },
  {
   "cell_type": "code",
   "execution_count": 0,
   "metadata": {
    "application/vnd.databricks.v1+cell": {
     "cellMetadata": {
      "byteLimit": 2048000,
      "implicitDf": true,
      "rowLimit": 10000
     },
     "inputWidgets": {},
     "nuid": "d15ba59c-f432-40bb-8c21-4fc42558d46b",
     "showTitle": false,
     "tableResultSettingsMap": {},
     "title": ""
    }
   },
   "outputs": [],
   "source": [
    "%sql\n",
    "SELECT COUNT(*)\n",
    "FROM nearest_neighbors"
   ]
  },
  {
   "cell_type": "code",
   "execution_count": 0,
   "metadata": {
    "application/vnd.databricks.v1+cell": {
     "cellMetadata": {
      "byteLimit": 2048000,
      "implicitDf": true,
      "rowLimit": 10000
     },
     "inputWidgets": {},
     "nuid": "bd1edf7d-2ed9-4314-a043-1f7a1406cee0",
     "showTitle": false,
     "tableResultSettingsMap": {},
     "title": ""
    }
   },
   "outputs": [],
   "source": [
    "filtered_geo_census_path = \"/Volumes/tabular/dataexpert/freshoats_capstone/filtered_geo_census.parquet\"\n",
    "filtered_geo_census_df = spark.read.parquet(filtered_geo_census_path)\n",
    "\n",
    "# Create a temporary view of the DataFrames\n",
    "filtered_geo_census_df.write.format(\"delta\") \\\n",
    "    .mode(\"overwrite\") \\\n",
    "    .option(\"path\", \"dbfs:/delta/census_tracts\") \\\n",
    "    .saveAsTable(\"census_tracts\")"
   ]
  },
  {
   "cell_type": "code",
   "execution_count": 0,
   "metadata": {
    "application/vnd.databricks.v1+cell": {
     "cellMetadata": {
      "byteLimit": 2048000,
      "implicitDf": true,
      "rowLimit": 10000
     },
     "inputWidgets": {},
     "nuid": "25f790d9-729a-4876-bef2-b95fdd276a83",
     "showTitle": false,
     "tableResultSettingsMap": {},
     "title": ""
    }
   },
   "outputs": [],
   "source": [
    "%sql\n",
    "SELECT *\n",
    "FROM census_tracts "
   ]
  },
  {
   "cell_type": "code",
   "execution_count": 0,
   "metadata": {
    "application/vnd.databricks.v1+cell": {
     "cellMetadata": {
      "byteLimit": 2048000,
      "implicitDf": true,
      "rowLimit": 10000
     },
     "inputWidgets": {},
     "nuid": "f01f2dc0-dcc2-45ac-be23-5ea9a2381bdb",
     "showTitle": false,
     "tableResultSettingsMap": {},
     "title": ""
    }
   },
   "outputs": [],
   "source": [
    "%sql\n",
    "SELECT *\n",
    "FROM filtered_sensors"
   ]
  },
  {
   "cell_type": "code",
   "execution_count": 0,
   "metadata": {
    "application/vnd.databricks.v1+cell": {
     "cellMetadata": {
      "byteLimit": 2048000,
      "implicitDf": true,
      "rowLimit": 10000
     },
     "inputWidgets": {},
     "nuid": "37c44f0a-463c-4365-9c79-0fa95b5f4203",
     "showTitle": false,
     "tableResultSettingsMap": {},
     "title": ""
    }
   },
   "outputs": [],
   "source": [
    "%sql\n",
    "SELECT COUNT(DISTINCT(location_id))\n",
    "  , COUNT(DISTINCT(sensor_id))\n",
    "FROM filtered_sensors"
   ]
  },
  {
   "cell_type": "code",
   "execution_count": 0,
   "metadata": {
    "application/vnd.databricks.v1+cell": {
     "cellMetadata": {
      "byteLimit": 2048000,
      "implicitDf": true,
      "rowLimit": 10000
     },
     "inputWidgets": {},
     "nuid": "a2d18dbe-6f30-4f6e-85f1-5d1f453e39e6",
     "showTitle": false,
     "tableResultSettingsMap": {},
     "title": ""
    }
   },
   "outputs": [],
   "source": [
    "%sql\n",
    "CREATE OR REPLACE TABLE sensors_with_income_levels \n",
    "USING DELTA AS \n",
    "SELECT\n",
    "  ct.GEOID AS GEOID\n",
    "  , sl.state_abbreviation AS state\n",
    "  , ct.INTPTLAT AS tract_lat\n",
    "  , ct.INTPTLON AS tract_lon\n",
    "  , ct.median_income AS median_income\n",
    "  , ct.median_income_margin AS median_income_margin\n",
    "  , CASE \n",
    "      WHEN median_income <= 30000 THEN 'Low'\n",
    "      WHEN median_income <= 50000 THEN 'Lower-Middle'\n",
    "      WHEN median_income <= 80000 THEN 'Middle'\n",
    "      WHEN median_income <= 150000 THEN 'Upper-Middle'\n",
    "      WHEN median_income <= 250000 THEN 'High'\n",
    "      WHEN median_income > 250000 THEN 'Very-High'\n",
    "      ELSE 'Unknown'\n",
    "    END AS income_bracket\n",
    "  , nn.location_id AS nn_location_id\n",
    "  , nn.distance AS nn_distance_km\n",
    "  , CASE \n",
    "        WHEN nn.distance <= 5 THEN 'High'\n",
    "        WHEN nn.distance <= 20 THEN 'Moderate'\n",
    "        WHEN nn.distance <= 50 THEN 'Low'\n",
    "        ELSE 'Very Low'\n",
    "    END AS aq_confidence_level\n",
    "  , fs.latitude AS location_lat\n",
    "  , fs.longitude AS location_lon\n",
    "  , fs.datetime_last AS datetime_last\n",
    "  , fs.sensor_id AS sensor_id\n",
    "  , fs.parameter_name AS parameter_name\n",
    "  , fs.parameter_units AS parameter_units\n",
    "FROM census_tracts ct\n",
    "    LEFT JOIN state_lookup sl\n",
    "      ON ct.STATEFP = sl.STATEFP\n",
    "  INNER JOIN nearest_neighbors nn \n",
    "    ON ct.GEOID = nn.tract_id\n",
    "  INNER JOIN filtered_sensors fs \n",
    "    ON fs.location_id = nn.location_id\n",
    "\n"
   ]
  },
  {
   "cell_type": "code",
   "execution_count": 0,
   "metadata": {
    "application/vnd.databricks.v1+cell": {
     "cellMetadata": {
      "byteLimit": 2048000,
      "implicitDf": true,
      "rowLimit": 10000
     },
     "inputWidgets": {},
     "nuid": "d6eb06ac-f902-4cd1-8a52-2388ee7fafe5",
     "showTitle": false,
     "tableResultSettingsMap": {},
     "title": ""
    }
   },
   "outputs": [],
   "source": [
    "%sql\n",
    "SELECT * \n",
    "FROM sensors_with_income_levels"
   ]
  },
  {
   "cell_type": "code",
   "execution_count": 0,
   "metadata": {
    "application/vnd.databricks.v1+cell": {
     "cellMetadata": {},
     "inputWidgets": {},
     "nuid": "13133061-f95a-4aef-9877-558ccb963ab7",
     "showTitle": false,
     "tableResultSettingsMap": {},
     "title": ""
    }
   },
   "outputs": [],
   "source": []
  }
 ],
 "metadata": {
  "application/vnd.databricks.v1+notebook": {
   "computePreferences": null,
   "dashboards": [],
   "environmentMetadata": {
    "base_environment": "",
    "environment_version": "2"
   },
   "language": "python",
   "notebookMetadata": {
    "mostRecentlyExecutedCommandWithImplicitDF": {
     "commandId": 6288841831501009,
     "dataframes": [
      "_sqldf"
     ]
    },
    "pythonIndentUnit": 4
   },
   "notebookName": "Static Layer 5 - Sensor Census Merge",
   "widgets": {}
  },
  "language_info": {
   "name": "python"
  }
 },
 "nbformat": 4,
 "nbformat_minor": 0
}
