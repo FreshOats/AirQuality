{
 "cells": [
  {
   "cell_type": "markdown",
   "metadata": {
    "application/vnd.databricks.v1+cell": {
     "cellMetadata": {},
     "inputWidgets": {},
     "nuid": "fdea9a36-5356-4b92-8ff5-d9999fcf7731",
     "showTitle": false,
     "tableResultSettingsMap": {},
     "title": ""
    }
   },
   "source": [
    "# AQ Reference Table\n",
    "This will create the the reference tables that establishes the safety levels for the measured air quality parameters. This will be called upon in the gold layer for showing the analytics for different hazard levels of the parameters, as well as showing regions that are safe or still unsafe levels.  "
   ]
  },
  {
   "cell_type": "code",
   "execution_count": 0,
   "metadata": {
    "application/vnd.databricks.v1+cell": {
     "cellMetadata": {
      "byteLimit": 2048000,
      "rowLimit": 10000
     },
     "inputWidgets": {},
     "nuid": "379876b7-a0bb-4a45-8121-7d9c589f0b7c",
     "showTitle": false,
     "tableResultSettingsMap": {},
     "title": ""
    }
   },
   "outputs": [],
   "source": [
    "from pyspark.sql import SparkSession\n",
    "from pyspark.sql.types import StructType, StructField, StringType, FloatType\n",
    "from pyspark.sql.functions import round\n",
    "\n",
    "# Initialize Spark session\n",
    "spark = SparkSession.builder \\\n",
    "    .appName(\"Air Quality Parameters Table\") \\\n",
    "    .getOrCreate()\n",
    "\n",
    "# Define schema for the table\n",
    "schema = StructType([\n",
    "    StructField(\"Parameter\", StringType(), True),\n",
    "    StructField(\"Units\", StringType(), True),\n",
    "    StructField(\"Moderate\", FloatType(), True),\n",
    "    StructField(\"Severe\", FloatType(), True),\n",
    "    StructField(\"Hazardous\", FloatType(), True)\n",
    "])\n",
    "\n",
    "# Define data for the table\n",
    "data = [\n",
    "    (\"co\", \"ppm\", 4.5, 9.5, 15.4),\n",
    "    (\"no\", \"ppm\", 0.051, 0.101, 0.2),\n",
    "    (\"no2\", \"ppm\", 0.054, 0.101, 0.2),\n",
    "    (\"nox\", \"ppm\", 0.051, 0.101, 0.2),\n",
    "    (\"o3\", \"ppm\", 0.055, 0.071, 0.1),\n",
    "    (\"pm1\", \"µg/m³\", 0.0, 0.0, 0.0),\n",
    "    (\"pm10\", \"µg/m³\", 55.0, 155.0, 254.0),\n",
    "    (\"pm25\", \"µg/m³\", 12.1, 35.5, 55.4),\n",
    "    (\"relativehumidity\", \"%\", 0.0, 0.0, 0.0),\n",
    "    (\"so2\", \"ppm\", 0.036, 0.076, 0.185),\n",
    "    (\"temperature\", \"°C\", 0.0, 0.0, 0.0),\n",
    "    (\"um003\", \"particles/cm³\", 0.0, 0.0, 0.0)\n",
    "]\n",
    "\n",
    "# Create DataFrame\n",
    "df = spark.createDataFrame(data, schema=schema)\n",
    "\n",
    "df.write.format(\"delta\") \\\n",
    "    .mode(\"overwrite\") \\\n",
    "    .option(\"path\", \"dbfs:/delta/air_quality_reference_parameters\") \\\n",
    "    .saveAsTable(\"air_quality_reference_parameters\")"
   ]
  },
  {
   "cell_type": "code",
   "execution_count": 0,
   "metadata": {
    "application/vnd.databricks.v1+cell": {
     "cellMetadata": {
      "byteLimit": 2048000,
      "implicitDf": true,
      "rowLimit": 10000
     },
     "inputWidgets": {},
     "nuid": "cc06ccc8-1bbf-4f8a-8a51-e164d75c6fdf",
     "showTitle": false,
     "tableResultSettingsMap": {},
     "title": ""
    }
   },
   "outputs": [],
   "source": [
    "%sql\n",
    "SELECT *\n",
    "FROM air_quality_reference_parameters"
   ]
  }
 ],
 "metadata": {
  "application/vnd.databricks.v1+notebook": {
   "computePreferences": null,
   "dashboards": [],
   "environmentMetadata": {
    "base_environment": "",
    "environment_version": "2"
   },
   "language": "python",
   "notebookMetadata": {
    "mostRecentlyExecutedCommandWithImplicitDF": {
     "commandId": 3905852250677677,
     "dataframes": [
      "_sqldf"
     ]
    },
    "pythonIndentUnit": 4
   },
   "notebookName": "Static Layer 8 - Air Quality Parameter References",
   "widgets": {}
  },
  "language_info": {
   "name": "python"
  }
 },
 "nbformat": 4,
 "nbformat_minor": 0
}
